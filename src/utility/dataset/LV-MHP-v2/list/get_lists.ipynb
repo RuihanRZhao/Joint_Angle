{
 "cells": [
  {
   "cell_type": "markdown",
   "source": [
    "# Train\n",
    "\n",
    "## Train Parsing List"
   ],
   "metadata": {
    "collapsed": false
   }
  },
  {
   "cell_type": "code",
   "execution_count": null,
   "outputs": [],
   "source": [
    "! cd ../../../../../\n",
    "! cd data/library/LV-MHP-v2/train/parsing_annos/\n",
    "! find ./ -type f > parsing.txt\n",
    "! mv parsing.txt ../../../../../src/utility/dataset/LV-MHP-v2/list"
   ],
   "metadata": {
    "collapsed": false
   }
  },
  {
   "cell_type": "code",
   "execution_count": null,
   "metadata": {
    "collapsed": true
   },
   "outputs": [],
   "source": [
    "def process_parsing_file(input_file, output_file):\n",
    "    \"\"\"\n",
    "    Sort the filenames in the parsing file numerically by Ra_Rb_Rc.png and remove the leading `./`.\n",
    "\n",
    "    Args:\n",
    "        input_file (str): Path to the input parsing file.\n",
    "        output_file (str): Path to the output file where sorted filenames will be saved.\n",
    "    \"\"\"\n",
    "    import re\n",
    "\n",
    "    try:\n",
    "        # Read lines from the input file\n",
    "        with open(input_file, 'r') as f:\n",
    "            lines = f.readlines()\n",
    "\n",
    "        # Remove leading `./` and strip whitespace\n",
    "        cleaned_lines = [line.strip().lstrip('./') for line in lines]\n",
    "\n",
    "        # Define a sorting key to extract numbers from filenames\n",
    "        def sorting_key(filename):\n",
    "            match = re.match(r\"(\\d+)_\", filename)\n",
    "            return int(match.group(1)) if match else float('inf')\n",
    "\n",
    "        # Sort lines based on the extracted numerical value of Ra\n",
    "        sorted_lines = sorted(cleaned_lines, key=sorting_key)\n",
    "\n",
    "        # Write sorted lines to the output file\n",
    "        with open(output_file, 'w') as f:\n",
    "            for line in sorted_lines:\n",
    "                f.write(line + '\\n')\n",
    "\n",
    "        print(f\"Successfully processed and saved to {output_file}\")\n",
    "\n",
    "    except Exception as e:\n",
    "        print(f\"An error occurred: {e}\")"
   ]
  },
  {
   "cell_type": "code",
   "execution_count": null,
   "outputs": [],
   "source": [
    "input_file = 'parsing.txt'\n",
    "output_file = 'parse.txt'\n",
    "process_parsing_file(input_file, output_file)"
   ],
   "metadata": {
    "collapsed": false
   }
  },
  {
   "cell_type": "code",
   "execution_count": null,
   "outputs": [],
   "source": [
    "! rm parsing.txt"
   ],
   "metadata": {
    "collapsed": false
   }
  },
  {
   "cell_type": "markdown",
   "source": [
    "## Train CSV generation"
   ],
   "metadata": {
    "collapsed": false
   }
  },
  {
   "cell_type": "code",
   "execution_count": 1,
   "outputs": [],
   "source": [
    "import re\n",
    "import csv\n",
    "\n",
    "def generate_csv_from_parse(input_file, csv_file):\n",
    "    \"\"\"\n",
    "    Create a CSV file with UID, NumOfHuman, Path4IMG, Path4PARSE, and Path4POSE\n",
    "    from a sorted parsing file.\n",
    "\n",
    "    Args:\n",
    "        input_file (str): Path to the input parsing file.\n",
    "        csv_file (str): Path to the CSV file to be created.\n",
    "    \"\"\"\n",
    "    try:\n",
    "        # Read lines from the input file\n",
    "        with open(input_file, 'r') as f:\n",
    "            lines = f.readlines()\n",
    "\n",
    "        # Remove leading `./` and strip whitespace\n",
    "        cleaned_lines = [line.strip().lstrip('./') for line in lines]\n",
    "\n",
    "        # Define a sorting key to extract numbers from filenames\n",
    "        def sorting_key(filename):\n",
    "            match = re.match(r\"(\\d+)_\", filename)\n",
    "            return int(match.group(1)) if match else float('inf')\n",
    "\n",
    "        # Sort lines based on the extracted numerical value of Ra\n",
    "        sorted_lines = sorted(cleaned_lines, key=sorting_key)\n",
    "\n",
    "        # Create the CSV data structure\n",
    "        csv_data = {}\n",
    "\n",
    "        for line in sorted_lines:\n",
    "            match = re.match(r\"(\\d+)_(\\d+)_(\\d+).png\", line)\n",
    "            if match:\n",
    "                Ra, Rb, _ = match.groups()\n",
    "                UID = int(Ra)\n",
    "                Path4PARSE = f\"{Ra}_{Rb}_*.png\"\n",
    "                Path4IMG = f\"{Ra}.jpg\"\n",
    "                Path4POSE = f\"{Ra}.mat\"\n",
    "\n",
    "                if UID not in csv_data:\n",
    "                    csv_data[UID] = {\n",
    "                        \"UID\": UID,\n",
    "                        \"NumOfHuman\": Rb,\n",
    "                        \"Path4IMG\": Path4IMG,\n",
    "                        \"Path4PARSE\": Path4PARSE,\n",
    "                        \"Path4POSE\": Path4POSE\n",
    "                    }\n",
    "\n",
    "        # Write the CSV file\n",
    "        with open(csv_file, 'w', newline='') as csvfile:\n",
    "            fieldnames = [\"UID\", \"NumOfHuman\", \"Path4IMG\", \"Path4PARSE\", \"Path4POSE\"]\n",
    "            writer = csv.DictWriter(csvfile, fieldnames=fieldnames)\n",
    "\n",
    "            writer.writeheader()\n",
    "            for row in csv_data.values():\n",
    "                writer.writerow(row)\n",
    "\n",
    "        print(f\"Successfully processed and saved to {csv_file}\")\n",
    "\n",
    "    except Exception as e:\n",
    "        print(f\"An error occurred: {e}\")"
   ],
   "metadata": {
    "collapsed": false,
    "ExecuteTime": {
     "end_time": "2025-01-17T02:40:12.569049Z",
     "start_time": "2025-01-17T02:40:12.560814Z"
    }
   }
  },
  {
   "cell_type": "code",
   "execution_count": 2,
   "outputs": [
    {
     "name": "stdout",
     "output_type": "stream",
     "text": [
      "Successfully processed and saved to train.csv\n"
     ]
    }
   ],
   "source": [
    "input_file = 'parse.txt'\n",
    "csv_file = 'train.csv'\n",
    "generate_csv_from_parse(input_file, csv_file)"
   ],
   "metadata": {
    "collapsed": false,
    "ExecuteTime": {
     "end_time": "2025-01-17T02:40:14.005639Z",
     "start_time": "2025-01-17T02:40:13.914021Z"
    }
   }
  },
  {
   "cell_type": "markdown",
   "source": [],
   "metadata": {
    "collapsed": false
   }
  }
 ],
 "metadata": {
  "kernelspec": {
   "display_name": "Python 3",
   "language": "python",
   "name": "python3"
  },
  "language_info": {
   "codemirror_mode": {
    "name": "ipython",
    "version": 2
   },
   "file_extension": ".py",
   "mimetype": "text/x-python",
   "name": "python",
   "nbconvert_exporter": "python",
   "pygments_lexer": "ipython2",
   "version": "2.7.6"
  }
 },
 "nbformat": 4,
 "nbformat_minor": 0
}
